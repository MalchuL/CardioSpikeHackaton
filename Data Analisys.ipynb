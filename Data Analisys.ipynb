{
 "cells": [
  {
   "cell_type": "markdown",
   "id": "12f186e4-4fb3-40ad-9846-9aebd455a413",
   "metadata": {},
   "source": [
    "### Working with data"
   ]
  },
  {
   "cell_type": "code",
   "execution_count": 1,
   "id": "5c8df1e7-2fe8-45c8-9b48-15dd1e350ded",
   "metadata": {},
   "outputs": [],
   "source": [
    "import pandas as pd\n",
    "import numpy as np"
   ]
  },
  {
   "cell_type": "code",
   "execution_count": 2,
   "id": "796cd25b-224f-4cf3-b797-b51b050e0691",
   "metadata": {},
   "outputs": [],
   "source": [
    "data = pd.read_csv(\"data/train.csv\")"
   ]
  },
  {
   "cell_type": "code",
   "execution_count": 3,
   "id": "abf30082-a5f4-4f38-b4f3-9bdf6c75b4c1",
   "metadata": {},
   "outputs": [
    {
     "data": {
      "text/html": [
       "<div>\n",
       "<style scoped>\n",
       "    .dataframe tbody tr th:only-of-type {\n",
       "        vertical-align: middle;\n",
       "    }\n",
       "\n",
       "    .dataframe tbody tr th {\n",
       "        vertical-align: top;\n",
       "    }\n",
       "\n",
       "    .dataframe thead th {\n",
       "        text-align: right;\n",
       "    }\n",
       "</style>\n",
       "<table border=\"1\" class=\"dataframe\">\n",
       "  <thead>\n",
       "    <tr style=\"text-align: right;\">\n",
       "      <th></th>\n",
       "      <th>id</th>\n",
       "      <th>time</th>\n",
       "      <th>x</th>\n",
       "      <th>y</th>\n",
       "    </tr>\n",
       "  </thead>\n",
       "  <tbody>\n",
       "    <tr>\n",
       "      <th>0</th>\n",
       "      <td>1</td>\n",
       "      <td>0</td>\n",
       "      <td>800</td>\n",
       "      <td>0</td>\n",
       "    </tr>\n",
       "    <tr>\n",
       "      <th>1</th>\n",
       "      <td>1</td>\n",
       "      <td>780</td>\n",
       "      <td>780</td>\n",
       "      <td>0</td>\n",
       "    </tr>\n",
       "    <tr>\n",
       "      <th>2</th>\n",
       "      <td>1</td>\n",
       "      <td>1572</td>\n",
       "      <td>792</td>\n",
       "      <td>0</td>\n",
       "    </tr>\n",
       "    <tr>\n",
       "      <th>3</th>\n",
       "      <td>1</td>\n",
       "      <td>2392</td>\n",
       "      <td>820</td>\n",
       "      <td>0</td>\n",
       "    </tr>\n",
       "    <tr>\n",
       "      <th>4</th>\n",
       "      <td>1</td>\n",
       "      <td>3196</td>\n",
       "      <td>804</td>\n",
       "      <td>0</td>\n",
       "    </tr>\n",
       "    <tr>\n",
       "      <th>...</th>\n",
       "      <td>...</td>\n",
       "      <td>...</td>\n",
       "      <td>...</td>\n",
       "      <td>...</td>\n",
       "    </tr>\n",
       "    <tr>\n",
       "      <th>60482</th>\n",
       "      <td>275</td>\n",
       "      <td>115360</td>\n",
       "      <td>552</td>\n",
       "      <td>0</td>\n",
       "    </tr>\n",
       "    <tr>\n",
       "      <th>60483</th>\n",
       "      <td>275</td>\n",
       "      <td>115912</td>\n",
       "      <td>552</td>\n",
       "      <td>0</td>\n",
       "    </tr>\n",
       "    <tr>\n",
       "      <th>60484</th>\n",
       "      <td>275</td>\n",
       "      <td>116464</td>\n",
       "      <td>552</td>\n",
       "      <td>0</td>\n",
       "    </tr>\n",
       "    <tr>\n",
       "      <th>60485</th>\n",
       "      <td>275</td>\n",
       "      <td>117020</td>\n",
       "      <td>556</td>\n",
       "      <td>0</td>\n",
       "    </tr>\n",
       "    <tr>\n",
       "      <th>60486</th>\n",
       "      <td>275</td>\n",
       "      <td>117572</td>\n",
       "      <td>552</td>\n",
       "      <td>0</td>\n",
       "    </tr>\n",
       "  </tbody>\n",
       "</table>\n",
       "<p>60487 rows × 4 columns</p>\n",
       "</div>"
      ],
      "text/plain": [
       "        id    time    x  y\n",
       "0        1       0  800  0\n",
       "1        1     780  780  0\n",
       "2        1    1572  792  0\n",
       "3        1    2392  820  0\n",
       "4        1    3196  804  0\n",
       "...    ...     ...  ... ..\n",
       "60482  275  115360  552  0\n",
       "60483  275  115912  552  0\n",
       "60484  275  116464  552  0\n",
       "60485  275  117020  556  0\n",
       "60486  275  117572  552  0\n",
       "\n",
       "[60487 rows x 4 columns]"
      ]
     },
     "execution_count": 3,
     "metadata": {},
     "output_type": "execute_result"
    }
   ],
   "source": [
    "data"
   ]
  },
  {
   "cell_type": "code",
   "execution_count": 4,
   "id": "f07ece6c-1fa6-41cc-9b48-d0e391e3e967",
   "metadata": {},
   "outputs": [
    {
     "data": {
      "text/html": [
       "<div>\n",
       "<style scoped>\n",
       "    .dataframe tbody tr th:only-of-type {\n",
       "        vertical-align: middle;\n",
       "    }\n",
       "\n",
       "    .dataframe tbody tr th {\n",
       "        vertical-align: top;\n",
       "    }\n",
       "\n",
       "    .dataframe thead th {\n",
       "        text-align: right;\n",
       "    }\n",
       "</style>\n",
       "<table border=\"1\" class=\"dataframe\">\n",
       "  <thead>\n",
       "    <tr style=\"text-align: right;\">\n",
       "      <th></th>\n",
       "      <th>id</th>\n",
       "      <th>time</th>\n",
       "      <th>x</th>\n",
       "      <th>y</th>\n",
       "    </tr>\n",
       "  </thead>\n",
       "  <tbody>\n",
       "    <tr>\n",
       "      <th>count</th>\n",
       "      <td>60487.000000</td>\n",
       "      <td>6.048700e+04</td>\n",
       "      <td>60487.000000</td>\n",
       "      <td>60487.000000</td>\n",
       "    </tr>\n",
       "    <tr>\n",
       "      <th>mean</th>\n",
       "      <td>136.440607</td>\n",
       "      <td>2.503140e+05</td>\n",
       "      <td>617.766677</td>\n",
       "      <td>0.148148</td>\n",
       "    </tr>\n",
       "    <tr>\n",
       "      <th>std</th>\n",
       "      <td>74.537697</td>\n",
       "      <td>3.457017e+05</td>\n",
       "      <td>287.553536</td>\n",
       "      <td>0.355249</td>\n",
       "    </tr>\n",
       "    <tr>\n",
       "      <th>min</th>\n",
       "      <td>1.000000</td>\n",
       "      <td>0.000000e+00</td>\n",
       "      <td>12.000000</td>\n",
       "      <td>0.000000</td>\n",
       "    </tr>\n",
       "    <tr>\n",
       "      <th>25%</th>\n",
       "      <td>87.000000</td>\n",
       "      <td>4.122800e+04</td>\n",
       "      <td>548.000000</td>\n",
       "      <td>0.000000</td>\n",
       "    </tr>\n",
       "    <tr>\n",
       "      <th>50%</th>\n",
       "      <td>137.000000</td>\n",
       "      <td>1.014480e+05</td>\n",
       "      <td>624.000000</td>\n",
       "      <td>0.000000</td>\n",
       "    </tr>\n",
       "    <tr>\n",
       "      <th>75%</th>\n",
       "      <td>197.000000</td>\n",
       "      <td>3.032860e+05</td>\n",
       "      <td>732.000000</td>\n",
       "      <td>0.000000</td>\n",
       "    </tr>\n",
       "    <tr>\n",
       "      <th>max</th>\n",
       "      <td>275.000000</td>\n",
       "      <td>1.868576e+06</td>\n",
       "      <td>40900.000000</td>\n",
       "      <td>1.000000</td>\n",
       "    </tr>\n",
       "  </tbody>\n",
       "</table>\n",
       "</div>"
      ],
      "text/plain": [
       "                 id          time             x             y\n",
       "count  60487.000000  6.048700e+04  60487.000000  60487.000000\n",
       "mean     136.440607  2.503140e+05    617.766677      0.148148\n",
       "std       74.537697  3.457017e+05    287.553536      0.355249\n",
       "min        1.000000  0.000000e+00     12.000000      0.000000\n",
       "25%       87.000000  4.122800e+04    548.000000      0.000000\n",
       "50%      137.000000  1.014480e+05    624.000000      0.000000\n",
       "75%      197.000000  3.032860e+05    732.000000      0.000000\n",
       "max      275.000000  1.868576e+06  40900.000000      1.000000"
      ]
     },
     "execution_count": 4,
     "metadata": {},
     "output_type": "execute_result"
    }
   ],
   "source": [
    "data.describe()"
   ]
  },
  {
   "cell_type": "code",
   "execution_count": 5,
   "id": "cc3dbc9f-3380-492c-8ccb-aa90c2d57426",
   "metadata": {},
   "outputs": [
    {
     "data": {
      "text/html": [
       "<div>\n",
       "<style scoped>\n",
       "    .dataframe tbody tr th:only-of-type {\n",
       "        vertical-align: middle;\n",
       "    }\n",
       "\n",
       "    .dataframe tbody tr th {\n",
       "        vertical-align: top;\n",
       "    }\n",
       "\n",
       "    .dataframe thead th {\n",
       "        text-align: right;\n",
       "    }\n",
       "</style>\n",
       "<table border=\"1\" class=\"dataframe\">\n",
       "  <thead>\n",
       "    <tr style=\"text-align: right;\">\n",
       "      <th></th>\n",
       "      <th>id</th>\n",
       "      <th>time</th>\n",
       "      <th>x</th>\n",
       "      <th>y</th>\n",
       "    </tr>\n",
       "  </thead>\n",
       "  <tbody>\n",
       "    <tr>\n",
       "      <th>count</th>\n",
       "      <td>51526.000000</td>\n",
       "      <td>5.152600e+04</td>\n",
       "      <td>51526.000000</td>\n",
       "      <td>51526.0</td>\n",
       "    </tr>\n",
       "    <tr>\n",
       "      <th>mean</th>\n",
       "      <td>137.058048</td>\n",
       "      <td>2.799139e+05</td>\n",
       "      <td>612.176163</td>\n",
       "      <td>0.0</td>\n",
       "    </tr>\n",
       "    <tr>\n",
       "      <th>std</th>\n",
       "      <td>73.596676</td>\n",
       "      <td>3.607936e+05</td>\n",
       "      <td>308.173044</td>\n",
       "      <td>0.0</td>\n",
       "    </tr>\n",
       "    <tr>\n",
       "      <th>min</th>\n",
       "      <td>1.000000</td>\n",
       "      <td>0.000000e+00</td>\n",
       "      <td>12.000000</td>\n",
       "      <td>0.0</td>\n",
       "    </tr>\n",
       "    <tr>\n",
       "      <th>25%</th>\n",
       "      <td>101.000000</td>\n",
       "      <td>4.957000e+04</td>\n",
       "      <td>540.000000</td>\n",
       "      <td>0.0</td>\n",
       "    </tr>\n",
       "    <tr>\n",
       "      <th>50%</th>\n",
       "      <td>138.000000</td>\n",
       "      <td>1.242860e+05</td>\n",
       "      <td>624.000000</td>\n",
       "      <td>0.0</td>\n",
       "    </tr>\n",
       "    <tr>\n",
       "      <th>75%</th>\n",
       "      <td>195.000000</td>\n",
       "      <td>3.628900e+05</td>\n",
       "      <td>740.000000</td>\n",
       "      <td>0.0</td>\n",
       "    </tr>\n",
       "    <tr>\n",
       "      <th>max</th>\n",
       "      <td>275.000000</td>\n",
       "      <td>1.868576e+06</td>\n",
       "      <td>40900.000000</td>\n",
       "      <td>0.0</td>\n",
       "    </tr>\n",
       "  </tbody>\n",
       "</table>\n",
       "</div>"
      ],
      "text/plain": [
       "                 id          time             x        y\n",
       "count  51526.000000  5.152600e+04  51526.000000  51526.0\n",
       "mean     137.058048  2.799139e+05    612.176163      0.0\n",
       "std       73.596676  3.607936e+05    308.173044      0.0\n",
       "min        1.000000  0.000000e+00     12.000000      0.0\n",
       "25%      101.000000  4.957000e+04    540.000000      0.0\n",
       "50%      138.000000  1.242860e+05    624.000000      0.0\n",
       "75%      195.000000  3.628900e+05    740.000000      0.0\n",
       "max      275.000000  1.868576e+06  40900.000000      0.0"
      ]
     },
     "execution_count": 5,
     "metadata": {},
     "output_type": "execute_result"
    }
   ],
   "source": [
    "# Trying to datamine statisctics\n",
    "data[data.y==0].describe()"
   ]
  },
  {
   "cell_type": "code",
   "execution_count": 6,
   "id": "63b1bc17-7ee9-4be8-a1e5-d3fceefa0c19",
   "metadata": {},
   "outputs": [
    {
     "data": {
      "text/html": [
       "<div>\n",
       "<style scoped>\n",
       "    .dataframe tbody tr th:only-of-type {\n",
       "        vertical-align: middle;\n",
       "    }\n",
       "\n",
       "    .dataframe tbody tr th {\n",
       "        vertical-align: top;\n",
       "    }\n",
       "\n",
       "    .dataframe thead th {\n",
       "        text-align: right;\n",
       "    }\n",
       "</style>\n",
       "<table border=\"1\" class=\"dataframe\">\n",
       "  <thead>\n",
       "    <tr style=\"text-align: right;\">\n",
       "      <th></th>\n",
       "      <th>id</th>\n",
       "      <th>time</th>\n",
       "      <th>x</th>\n",
       "      <th>y</th>\n",
       "    </tr>\n",
       "  </thead>\n",
       "  <tbody>\n",
       "    <tr>\n",
       "      <th>count</th>\n",
       "      <td>8961.000000</td>\n",
       "      <td>8.961000e+03</td>\n",
       "      <td>8961.000000</td>\n",
       "      <td>8961.0</td>\n",
       "    </tr>\n",
       "    <tr>\n",
       "      <th>mean</th>\n",
       "      <td>132.890302</td>\n",
       "      <td>8.011406e+04</td>\n",
       "      <td>649.912287</td>\n",
       "      <td>1.0</td>\n",
       "    </tr>\n",
       "    <tr>\n",
       "      <th>std</th>\n",
       "      <td>79.644858</td>\n",
       "      <td>1.555596e+05</td>\n",
       "      <td>104.142159</td>\n",
       "      <td>0.0</td>\n",
       "    </tr>\n",
       "    <tr>\n",
       "      <th>min</th>\n",
       "      <td>1.000000</td>\n",
       "      <td>0.000000e+00</td>\n",
       "      <td>464.000000</td>\n",
       "      <td>1.0</td>\n",
       "    </tr>\n",
       "    <tr>\n",
       "      <th>25%</th>\n",
       "      <td>64.000000</td>\n",
       "      <td>2.088400e+04</td>\n",
       "      <td>576.000000</td>\n",
       "      <td>1.0</td>\n",
       "    </tr>\n",
       "    <tr>\n",
       "      <th>50%</th>\n",
       "      <td>125.000000</td>\n",
       "      <td>4.236800e+04</td>\n",
       "      <td>628.000000</td>\n",
       "      <td>1.0</td>\n",
       "    </tr>\n",
       "    <tr>\n",
       "      <th>75%</th>\n",
       "      <td>203.000000</td>\n",
       "      <td>8.203600e+04</td>\n",
       "      <td>692.000000</td>\n",
       "      <td>1.0</td>\n",
       "    </tr>\n",
       "    <tr>\n",
       "      <th>max</th>\n",
       "      <td>275.000000</td>\n",
       "      <td>1.861928e+06</td>\n",
       "      <td>1024.000000</td>\n",
       "      <td>1.0</td>\n",
       "    </tr>\n",
       "  </tbody>\n",
       "</table>\n",
       "</div>"
      ],
      "text/plain": [
       "                id          time            x       y\n",
       "count  8961.000000  8.961000e+03  8961.000000  8961.0\n",
       "mean    132.890302  8.011406e+04   649.912287     1.0\n",
       "std      79.644858  1.555596e+05   104.142159     0.0\n",
       "min       1.000000  0.000000e+00   464.000000     1.0\n",
       "25%      64.000000  2.088400e+04   576.000000     1.0\n",
       "50%     125.000000  4.236800e+04   628.000000     1.0\n",
       "75%     203.000000  8.203600e+04   692.000000     1.0\n",
       "max     275.000000  1.861928e+06  1024.000000     1.0"
      ]
     },
     "execution_count": 6,
     "metadata": {},
     "output_type": "execute_result"
    }
   ],
   "source": [
    "data[data.y==1].describe()"
   ]
  },
  {
   "cell_type": "code",
   "execution_count": 7,
   "id": "65de409f-b531-472e-a1c0-f515cb1e3345",
   "metadata": {},
   "outputs": [
    {
     "data": {
      "text/html": [
       "<div>\n",
       "<style scoped>\n",
       "    .dataframe tbody tr th:only-of-type {\n",
       "        vertical-align: middle;\n",
       "    }\n",
       "\n",
       "    .dataframe tbody tr th {\n",
       "        vertical-align: top;\n",
       "    }\n",
       "\n",
       "    .dataframe thead th {\n",
       "        text-align: right;\n",
       "    }\n",
       "</style>\n",
       "<table border=\"1\" class=\"dataframe\">\n",
       "  <thead>\n",
       "    <tr style=\"text-align: right;\">\n",
       "      <th></th>\n",
       "      <th>id</th>\n",
       "      <th>time</th>\n",
       "      <th>x</th>\n",
       "      <th>y</th>\n",
       "    </tr>\n",
       "  </thead>\n",
       "  <tbody>\n",
       "    <tr>\n",
       "      <th>0</th>\n",
       "      <td>1</td>\n",
       "      <td>0</td>\n",
       "      <td>800</td>\n",
       "      <td>0</td>\n",
       "    </tr>\n",
       "    <tr>\n",
       "      <th>38442</th>\n",
       "      <td>164</td>\n",
       "      <td>511348</td>\n",
       "      <td>624</td>\n",
       "      <td>0</td>\n",
       "    </tr>\n",
       "    <tr>\n",
       "      <th>38443</th>\n",
       "      <td>164</td>\n",
       "      <td>511976</td>\n",
       "      <td>628</td>\n",
       "      <td>0</td>\n",
       "    </tr>\n",
       "    <tr>\n",
       "      <th>38444</th>\n",
       "      <td>164</td>\n",
       "      <td>512544</td>\n",
       "      <td>568</td>\n",
       "      <td>0</td>\n",
       "    </tr>\n",
       "    <tr>\n",
       "      <th>38445</th>\n",
       "      <td>164</td>\n",
       "      <td>513212</td>\n",
       "      <td>668</td>\n",
       "      <td>0</td>\n",
       "    </tr>\n",
       "    <tr>\n",
       "      <th>...</th>\n",
       "      <td>...</td>\n",
       "      <td>...</td>\n",
       "      <td>...</td>\n",
       "      <td>...</td>\n",
       "    </tr>\n",
       "    <tr>\n",
       "      <th>9987</th>\n",
       "      <td>39</td>\n",
       "      <td>24056</td>\n",
       "      <td>640</td>\n",
       "      <td>1</td>\n",
       "    </tr>\n",
       "    <tr>\n",
       "      <th>9986</th>\n",
       "      <td>39</td>\n",
       "      <td>23416</td>\n",
       "      <td>640</td>\n",
       "      <td>1</td>\n",
       "    </tr>\n",
       "    <tr>\n",
       "      <th>9985</th>\n",
       "      <td>39</td>\n",
       "      <td>22776</td>\n",
       "      <td>632</td>\n",
       "      <td>1</td>\n",
       "    </tr>\n",
       "    <tr>\n",
       "      <th>9983</th>\n",
       "      <td>39</td>\n",
       "      <td>21556</td>\n",
       "      <td>684</td>\n",
       "      <td>1</td>\n",
       "    </tr>\n",
       "    <tr>\n",
       "      <th>44293</th>\n",
       "      <td>188</td>\n",
       "      <td>38020</td>\n",
       "      <td>640</td>\n",
       "      <td>1</td>\n",
       "    </tr>\n",
       "  </tbody>\n",
       "</table>\n",
       "<p>60487 rows × 4 columns</p>\n",
       "</div>"
      ],
      "text/plain": [
       "        id    time    x  y\n",
       "0        1       0  800  0\n",
       "38442  164  511348  624  0\n",
       "38443  164  511976  628  0\n",
       "38444  164  512544  568  0\n",
       "38445  164  513212  668  0\n",
       "...    ...     ...  ... ..\n",
       "9987    39   24056  640  1\n",
       "9986    39   23416  640  1\n",
       "9985    39   22776  632  1\n",
       "9983    39   21556  684  1\n",
       "44293  188   38020  640  1\n",
       "\n",
       "[60487 rows x 4 columns]"
      ]
     },
     "execution_count": 7,
     "metadata": {},
     "output_type": "execute_result"
    }
   ],
   "source": [
    "data.sort_values(by=\"y\")"
   ]
  },
  {
   "cell_type": "code",
   "execution_count": 8,
   "id": "74d0272e-a5ab-4834-a371-6729a5f1c599",
   "metadata": {},
   "outputs": [
    {
     "data": {
      "text/html": [
       "<div>\n",
       "<style scoped>\n",
       "    .dataframe tbody tr th:only-of-type {\n",
       "        vertical-align: middle;\n",
       "    }\n",
       "\n",
       "    .dataframe tbody tr th {\n",
       "        vertical-align: top;\n",
       "    }\n",
       "\n",
       "    .dataframe thead th {\n",
       "        text-align: right;\n",
       "    }\n",
       "</style>\n",
       "<table border=\"1\" class=\"dataframe\">\n",
       "  <thead>\n",
       "    <tr style=\"text-align: right;\">\n",
       "      <th></th>\n",
       "      <th>id</th>\n",
       "      <th>time</th>\n",
       "      <th>x</th>\n",
       "      <th>y</th>\n",
       "    </tr>\n",
       "  </thead>\n",
       "  <tbody>\n",
       "    <tr>\n",
       "      <th>0</th>\n",
       "      <td>NaN</td>\n",
       "      <td>NaN</td>\n",
       "      <td>800.0</td>\n",
       "      <td>NaN</td>\n",
       "    </tr>\n",
       "    <tr>\n",
       "      <th>1</th>\n",
       "      <td>NaN</td>\n",
       "      <td>780.0</td>\n",
       "      <td>780.0</td>\n",
       "      <td>NaN</td>\n",
       "    </tr>\n",
       "    <tr>\n",
       "      <th>2</th>\n",
       "      <td>NaN</td>\n",
       "      <td>1572.0</td>\n",
       "      <td>792.0</td>\n",
       "      <td>NaN</td>\n",
       "    </tr>\n",
       "    <tr>\n",
       "      <th>3</th>\n",
       "      <td>NaN</td>\n",
       "      <td>2392.0</td>\n",
       "      <td>820.0</td>\n",
       "      <td>NaN</td>\n",
       "    </tr>\n",
       "    <tr>\n",
       "      <th>4</th>\n",
       "      <td>NaN</td>\n",
       "      <td>3196.0</td>\n",
       "      <td>804.0</td>\n",
       "      <td>NaN</td>\n",
       "    </tr>\n",
       "    <tr>\n",
       "      <th>...</th>\n",
       "      <td>...</td>\n",
       "      <td>...</td>\n",
       "      <td>...</td>\n",
       "      <td>...</td>\n",
       "    </tr>\n",
       "    <tr>\n",
       "      <th>60482</th>\n",
       "      <td>NaN</td>\n",
       "      <td>115360.0</td>\n",
       "      <td>NaN</td>\n",
       "      <td>NaN</td>\n",
       "    </tr>\n",
       "    <tr>\n",
       "      <th>60483</th>\n",
       "      <td>NaN</td>\n",
       "      <td>115912.0</td>\n",
       "      <td>NaN</td>\n",
       "      <td>NaN</td>\n",
       "    </tr>\n",
       "    <tr>\n",
       "      <th>60484</th>\n",
       "      <td>NaN</td>\n",
       "      <td>116464.0</td>\n",
       "      <td>NaN</td>\n",
       "      <td>NaN</td>\n",
       "    </tr>\n",
       "    <tr>\n",
       "      <th>60485</th>\n",
       "      <td>NaN</td>\n",
       "      <td>117020.0</td>\n",
       "      <td>NaN</td>\n",
       "      <td>NaN</td>\n",
       "    </tr>\n",
       "    <tr>\n",
       "      <th>60486</th>\n",
       "      <td>NaN</td>\n",
       "      <td>117572.0</td>\n",
       "      <td>NaN</td>\n",
       "      <td>NaN</td>\n",
       "    </tr>\n",
       "  </tbody>\n",
       "</table>\n",
       "<p>60487 rows × 4 columns</p>\n",
       "</div>"
      ],
      "text/plain": [
       "       id      time      x   y\n",
       "0     NaN       NaN  800.0 NaN\n",
       "1     NaN     780.0  780.0 NaN\n",
       "2     NaN    1572.0  792.0 NaN\n",
       "3     NaN    2392.0  820.0 NaN\n",
       "4     NaN    3196.0  804.0 NaN\n",
       "...    ..       ...    ...  ..\n",
       "60482 NaN  115360.0    NaN NaN\n",
       "60483 NaN  115912.0    NaN NaN\n",
       "60484 NaN  116464.0    NaN NaN\n",
       "60485 NaN  117020.0    NaN NaN\n",
       "60486 NaN  117572.0    NaN NaN\n",
       "\n",
       "[60487 rows x 4 columns]"
      ]
     },
     "execution_count": 8,
     "metadata": {},
     "output_type": "execute_result"
    }
   ],
   "source": [
    "#data[pd.isna(data)]\n",
    "data[data>650]"
   ]
  },
  {
   "cell_type": "code",
   "execution_count": 9,
   "id": "fa578a26-1266-44d7-8b79-1dd1da4cdfe5",
   "metadata": {},
   "outputs": [
    {
     "data": {
      "text/plain": [
       "<pandas.core.groupby.generic.DataFrameGroupBy object at 0x7f4622948780>"
      ]
     },
     "execution_count": 9,
     "metadata": {},
     "output_type": "execute_result"
    }
   ],
   "source": [
    "data.groupby('id')"
   ]
  },
  {
   "cell_type": "code",
   "execution_count": 10,
   "id": "1fbd876a-d607-4a2d-a815-296cdedce125",
   "metadata": {},
   "outputs": [],
   "source": [
    "def get_ids(data, column_id='id'):\n",
    "    return list(data[column_id].unique())"
   ]
  },
  {
   "cell_type": "code",
   "execution_count": 11,
   "id": "7777fe02-9ef3-4070-9a1c-08eb5725cce1",
   "metadata": {},
   "outputs": [
    {
     "name": "stdout",
     "output_type": "stream",
     "text": [
      "[1, 2, 3, 4, 5, 6, 7, 10, 12, 13, 14, 15, 16, 17, 19, 20, 21, 22, 23, 24, 25, 27, 29, 30, 31, 32, 33, 34, 35, 36, 38, 39, 40, 41, 42, 43, 44, 45, 46, 47, 48, 49, 51, 52, 53, 54, 55, 57, 58, 59, 60, 61, 62, 63, 64, 65, 66, 67, 68, 69, 70, 71, 72, 73, 74, 75, 76, 77, 78, 79, 80, 82, 84, 85, 86, 87, 88, 89, 90, 91, 92, 93, 96, 97, 99, 100, 101, 102, 103, 104, 107, 108, 109, 110, 111, 112, 113, 115, 116, 117, 118, 119, 120, 121, 122, 123, 124, 125, 126, 127, 128, 129, 130, 131, 132, 133, 134, 136, 137, 138, 139, 140, 143, 144, 145, 146, 147, 148, 149, 150, 151, 152, 153, 155, 156, 158, 159, 160, 161, 162, 163, 164, 167, 169, 170, 172, 173, 174, 177, 178, 179, 180, 182, 185, 186, 187, 188, 189, 190, 191, 193, 194, 195, 196, 197, 199, 201, 202, 203, 204, 205, 206, 207, 208, 209, 213, 214, 215, 216, 217, 218, 219, 220, 221, 222, 223, 224, 225, 226, 228, 229, 230, 231, 232, 233, 234, 235, 236, 237, 238, 239, 240, 241, 242, 244, 245, 246, 247, 250, 251, 252, 253, 254, 257, 258, 259, 260, 261, 262, 263, 264, 265, 266, 268, 270, 271, 272, 273, 275]\n"
     ]
    }
   ],
   "source": [
    "print(get_ids(data))"
   ]
  },
  {
   "cell_type": "code",
   "execution_count": 12,
   "id": "e02121d4-449d-4722-b80f-7bea6f6b6938",
   "metadata": {},
   "outputs": [],
   "source": [
    "def get_series_from_data(data, idx, column_id='id', time_axis='time'):\n",
    "    return data[data[column_id]==idx].sort_values(by=time_axis).reset_index().drop(\"index\", axis=1)\n",
    "\n",
    "def get_simple_data(series_from_data):\n",
    "    id = series_from_data['id']\n",
    "    target = series_from_data['y'].to_numpy()\n",
    "    assert np.all(id == list(id)[0])\n",
    "    id = id[0]\n",
    "    #print(target[target != list(target)[0]], list(target)[0])\n",
    "    #assert np.all(target == list(target)[0])\n",
    "    time = series_from_data['time'].to_numpy()\n",
    "    ampl = series_from_data['x'].to_numpy()\n",
    "    \n",
    "    return {'id': id, 'time':time, 'ampl':ampl, 'target': target}\n",
    "    "
   ]
  },
  {
   "cell_type": "code",
   "execution_count": 13,
   "id": "1fcaf2f4-7560-41e6-b8c3-a538d80a7a1b",
   "metadata": {},
   "outputs": [
    {
     "data": {
      "text/html": [
       "<div>\n",
       "<style scoped>\n",
       "    .dataframe tbody tr th:only-of-type {\n",
       "        vertical-align: middle;\n",
       "    }\n",
       "\n",
       "    .dataframe tbody tr th {\n",
       "        vertical-align: top;\n",
       "    }\n",
       "\n",
       "    .dataframe thead th {\n",
       "        text-align: right;\n",
       "    }\n",
       "</style>\n",
       "<table border=\"1\" class=\"dataframe\">\n",
       "  <thead>\n",
       "    <tr style=\"text-align: right;\">\n",
       "      <th></th>\n",
       "      <th>id</th>\n",
       "      <th>time</th>\n",
       "      <th>x</th>\n",
       "      <th>y</th>\n",
       "    </tr>\n",
       "  </thead>\n",
       "  <tbody>\n",
       "    <tr>\n",
       "      <th>0</th>\n",
       "      <td>12</td>\n",
       "      <td>0</td>\n",
       "      <td>636</td>\n",
       "      <td>0</td>\n",
       "    </tr>\n",
       "    <tr>\n",
       "      <th>1</th>\n",
       "      <td>12</td>\n",
       "      <td>628</td>\n",
       "      <td>628</td>\n",
       "      <td>0</td>\n",
       "    </tr>\n",
       "    <tr>\n",
       "      <th>2</th>\n",
       "      <td>12</td>\n",
       "      <td>1248</td>\n",
       "      <td>620</td>\n",
       "      <td>0</td>\n",
       "    </tr>\n",
       "    <tr>\n",
       "      <th>3</th>\n",
       "      <td>12</td>\n",
       "      <td>1880</td>\n",
       "      <td>632</td>\n",
       "      <td>0</td>\n",
       "    </tr>\n",
       "    <tr>\n",
       "      <th>4</th>\n",
       "      <td>12</td>\n",
       "      <td>2512</td>\n",
       "      <td>632</td>\n",
       "      <td>0</td>\n",
       "    </tr>\n",
       "    <tr>\n",
       "      <th>5</th>\n",
       "      <td>12</td>\n",
       "      <td>3148</td>\n",
       "      <td>636</td>\n",
       "      <td>1</td>\n",
       "    </tr>\n",
       "    <tr>\n",
       "      <th>6</th>\n",
       "      <td>12</td>\n",
       "      <td>3776</td>\n",
       "      <td>628</td>\n",
       "      <td>1</td>\n",
       "    </tr>\n",
       "    <tr>\n",
       "      <th>7</th>\n",
       "      <td>12</td>\n",
       "      <td>4400</td>\n",
       "      <td>624</td>\n",
       "      <td>1</td>\n",
       "    </tr>\n",
       "    <tr>\n",
       "      <th>8</th>\n",
       "      <td>12</td>\n",
       "      <td>5028</td>\n",
       "      <td>628</td>\n",
       "      <td>1</td>\n",
       "    </tr>\n",
       "    <tr>\n",
       "      <th>9</th>\n",
       "      <td>12</td>\n",
       "      <td>5664</td>\n",
       "      <td>636</td>\n",
       "      <td>1</td>\n",
       "    </tr>\n",
       "  </tbody>\n",
       "</table>\n",
       "</div>"
      ],
      "text/plain": [
       "   id  time    x  y\n",
       "0  12     0  636  0\n",
       "1  12   628  628  0\n",
       "2  12  1248  620  0\n",
       "3  12  1880  632  0\n",
       "4  12  2512  632  0\n",
       "5  12  3148  636  1\n",
       "6  12  3776  628  1\n",
       "7  12  4400  624  1\n",
       "8  12  5028  628  1\n",
       "9  12  5664  636  1"
      ]
     },
     "execution_count": 13,
     "metadata": {},
     "output_type": "execute_result"
    }
   ],
   "source": [
    "get_series_from_data(data, 12).head(10)"
   ]
  },
  {
   "cell_type": "code",
   "execution_count": 14,
   "id": "ed693f60-ffc4-4583-a155-1412390a2129",
   "metadata": {},
   "outputs": [
    {
     "data": {
      "text/plain": [
       "{'id': 12,\n",
       " 'time': array([    0,   628,  1248,  1880,  2512,  3148,  3776,  4400,  5028,\n",
       "         5664,  6336,  6912,  7536,  8168,  8800,  9424, 10056, 10684,\n",
       "        11328, 11968, 12600, 13236, 13864, 14500, 15132, 15756, 16380,\n",
       "        17012, 17644, 18900, 19532, 20164, 20800, 21428, 22056, 22736,\n",
       "        23320, 23944, 24568, 25248, 25824, 26456, 27084, 27712, 28344,\n",
       "        28972, 29252, 29612, 30248, 30876, 31252, 31556, 32140, 32252,\n",
       "        32772, 33252, 33400, 34024, 34256, 34640, 35908, 36252, 36536,\n",
       "        37216, 37796, 38432, 39064, 40256, 40368, 40956, 41584, 42208,\n",
       "        42832, 43456, 44088, 44708, 46260, 46584, 47208, 47836, 48464,\n",
       "        49100, 49260, 49724, 50356, 50984, 51260, 51608, 52252, 52876,\n",
       "        53260, 53512, 54264, 54788, 55420, 56052, 56268, 56680, 57944,\n",
       "        59192, 59820, 60448, 61068, 61692, 62368, 62952, 63268, 63584,\n",
       "        64212, 64840, 65268, 65476, 66164, 66744, 67268, 67380, 68016,\n",
       "        68652, 69932, 70272, 70568, 71200, 71832, 72468, 73728, 74364,\n",
       "        75000, 75272, 75628, 76260, 76892, 77276, 77528, 78156, 78788,\n",
       "        79420, 80056, 80692, 81376, 81960, 82604, 83244, 83884, 84520,\n",
       "        85156, 85788, 86416, 87044, 87276, 87676, 88936, 89280, 89608,\n",
       "        90184]),\n",
       " 'ampl': array([ 636,  628,  620,  632,  632,  636,  628,  624,  628,  636,  672,\n",
       "         576,  624,  632,  632,  624,  632,  628,  644,  640,  632,  636,\n",
       "         628,  636,  632,  624,  624,  632,  632, 1256,  632,  632,  636,\n",
       "         628,  628,  680,  584,  624,  624,  680,  576,  632,  628,  628,\n",
       "         632,  628,  280,  360,  636,  628,  376,  304,  584,  112,  520,\n",
       "         480,  148,  624,  232,  384, 1268,  344,  284,  680,  580,  636,\n",
       "         632, 1192,  112,  588,  628,  624,  624,  624,  632,  620, 1552,\n",
       "         324,  624,  628,  628,  636,  160,  464,  632,  628,  276,  348,\n",
       "         644,  624,  384,  252,  752,  524,  632,  632,  216,  412, 1264,\n",
       "        1248,  628,  628,  620,  624,  676,  584,  316,  316,  628,  628,\n",
       "         428,  208,  688,  580,  524,  112,  636,  636, 1280,  340,  296,\n",
       "         632,  632,  636, 1260,  636,  636,  272,  356,  632,  632,  384,\n",
       "         252,  628,  632,  632,  636,  636,  684,  584,  644,  640,  640,\n",
       "         636,  636,  632,  628,  628,  232,  400, 1260,  344,  328,  576]),\n",
       " 'target': array([0, 0, 0, 0, 0, 1, 1, 1, 1, 1, 1, 1, 1, 1, 1, 0, 0, 0, 0, 0, 0, 0,\n",
       "        0, 0, 0, 0, 0, 0, 0, 0, 0, 1, 1, 1, 1, 1, 1, 1, 1, 1, 1, 1, 1, 0,\n",
       "        0, 0, 0, 0, 0, 0, 0, 0, 0, 0, 0, 0, 0, 0, 0, 0, 0, 0, 0, 0, 0, 0,\n",
       "        0, 0, 0, 0, 0, 0, 0, 0, 0, 0, 0, 0, 0, 0, 0, 0, 0, 0, 0, 0, 0, 0,\n",
       "        0, 0, 0, 0, 0, 0, 0, 0, 0, 0, 0, 0, 0, 0, 0, 0, 0, 0, 0, 0, 0, 0,\n",
       "        0, 0, 0, 0, 0, 0, 0, 0, 0, 0, 0, 0, 0, 0, 0, 0, 0, 0, 0, 0, 0, 0,\n",
       "        0, 0, 1, 1, 1, 1, 1, 1, 1, 1, 1, 1, 1, 0, 0, 0, 0, 0, 0, 0, 0, 0])}"
      ]
     },
     "execution_count": 14,
     "metadata": {},
     "output_type": "execute_result"
    }
   ],
   "source": [
    "get_simple_data(get_series_from_data(data, 12))"
   ]
  },
  {
   "cell_type": "code",
   "execution_count": 94,
   "id": "0749cc93-0c99-445a-bb93-187fb2e76388",
   "metadata": {},
   "outputs": [
    {
     "ename": "SyntaxError",
     "evalue": "invalid syntax (<ipython-input-94-88cdf3ec3a20>, line 2)",
     "output_type": "error",
     "traceback": [
      "\u001b[0;36m  File \u001b[0;32m\"<ipython-input-94-88cdf3ec3a20>\"\u001b[0;36m, line \u001b[0;32m2\u001b[0m\n\u001b[0;31m    def __init__\u001b[0m\n\u001b[0m                 ^\u001b[0m\n\u001b[0;31mSyntaxError\u001b[0m\u001b[0;31m:\u001b[0m invalid syntax\n"
     ]
    }
   ],
   "source": [
    "class CardioSpikeDataset():\n",
    "    def __init__ "
   ]
  },
  {
   "cell_type": "code",
   "execution_count": 16,
   "id": "7ffac152-1d34-45dc-9910-d11478b9eecd",
   "metadata": {},
   "outputs": [
    {
     "name": "stdout",
     "output_type": "stream",
     "text": [
      "Collecting matplotlib\n",
      "  Using cached matplotlib-3.3.4-cp36-cp36m-manylinux1_x86_64.whl (11.5 MB)\n",
      "Requirement already satisfied: numpy>=1.15 in ./venv/lib/python3.6/site-packages (from matplotlib) (1.19.5)\n",
      "Collecting cycler>=0.10\n",
      "  Using cached cycler-0.10.0-py2.py3-none-any.whl (6.5 kB)\n",
      "Requirement already satisfied: pyparsing!=2.0.4,!=2.1.2,!=2.1.6,>=2.0.3 in ./venv/lib/python3.6/site-packages (from matplotlib) (2.4.7)\n",
      "Collecting pillow>=6.2.0\n",
      "  Using cached Pillow-8.2.0-cp36-cp36m-manylinux1_x86_64.whl (3.0 MB)\n",
      "Collecting kiwisolver>=1.0.1\n",
      "  Using cached kiwisolver-1.3.1-cp36-cp36m-manylinux1_x86_64.whl (1.1 MB)\n",
      "Requirement already satisfied: python-dateutil>=2.1 in ./venv/lib/python3.6/site-packages (from matplotlib) (2.8.1)\n",
      "Requirement already satisfied: six in ./venv/lib/python3.6/site-packages (from cycler>=0.10->matplotlib) (1.16.0)\n",
      "Installing collected packages: pillow, kiwisolver, cycler, matplotlib\n",
      "Successfully installed cycler-0.10.0 kiwisolver-1.3.1 matplotlib-3.3.4 pillow-8.2.0\n",
      "Note: you may need to restart the kernel to use updated packages.\n"
     ]
    }
   ],
   "source": [
    "pip install matplotlib"
   ]
  },
  {
   "cell_type": "code",
   "execution_count": 17,
   "id": "35ad6d21-942a-4529-8cd3-fd3025430462",
   "metadata": {},
   "outputs": [],
   "source": [
    "import matplotlib.pyplot as plt"
   ]
  },
  {
   "cell_type": "code",
   "execution_count": 18,
   "id": "0b26f2f6-b069-4789-bb7e-0ec295fbbde5",
   "metadata": {},
   "outputs": [
    {
     "data": {
      "text/plain": [
       "[<matplotlib.lines.Line2D at 0x7f46a08d9cc0>]"
      ]
     },
     "execution_count": 18,
     "metadata": {},
     "output_type": "execute_result"
    },
    {
     "data": {
      "image/png": "[encoded data removed]",
      "text/plain": [
       "<Figure size 432x288 with 1 Axes>"
      ]
     },
     "metadata": {
      "needs_background": "light"
     },
     "output_type": "display_data"
    }
   ],
   "source": [
    "graph_data = get_simple_data(get_series_from_data(data, 12))\n",
    "plt.plot(graph_data['time'], graph_data['ampl'])"
   ]
  },
  {
   "cell_type": "code",
   "execution_count": 19,
   "id": "381952c6-f7a7-44fb-90fd-58942e84702c",
   "metadata": {},
   "outputs": [
    {
     "data": {
      "text/plain": [
       "[<matplotlib.lines.Line2D at 0x7f469856d860>]"
      ]
     },
     "execution_count": 19,
     "metadata": {},
     "output_type": "execute_result"
    },
    {
     "data": {
      "image/png": "[encoded data removed]",
      "text/plain": [
       "<Figure size 432x288 with 1 Axes>"
      ]
     },
     "metadata": {
      "needs_background": "light"
     },
     "output_type": "display_data"
    }
   ],
   "source": [
    "graph_data = get_simple_data(get_series_from_data(data, 12))\n",
    "plt.plot(graph_data['ampl'])"
   ]
  },
  {
   "cell_type": "code",
   "execution_count": 58,
   "id": "d701be0d-7a1b-4614-83af-76286c1d0f29",
   "metadata": {},
   "outputs": [
    {
     "data": {
      "image/png": "[encoded data removed]",
      "text/plain": [
       "<Figure size 432x288 with 1 Axes>"
      ]
     },
     "metadata": {
      "needs_background": "light"
     },
     "output_type": "display_data"
    }
   ],
   "source": [
    "graph_data = get_simple_data(get_series_from_data(val_csv, 30))\n",
    "labels = graph_data['target']\n",
    "subdata = []\n",
    "cur_label = labels[0]\n",
    "start_id = 0\n",
    "for i,label in enumerate(labels):\n",
    "    if label != cur_label:\n",
    "        new_data = {'time': graph_data['time'][start_id:i+1], 'ampl': graph_data['ampl'][start_id:i+1], 'target': graph_data['target'][start_id:i+1]}\n",
    "        cur_label = label\n",
    "        start_id = i\n",
    "        subdata.append(new_data)\n",
    "subdata.append({'time': graph_data['time'][start_id:len(labels)], 'ampl': graph_data['ampl'][start_id:len(labels)], 'target': graph_data['target'][start_id:len(labels)]})\n",
    "\n",
    "        \n",
    "for sdata in subdata:\n",
    "    color = ['#008B8B', '#DC143C'][sdata['target'][0]]\n",
    "    plt.plot(sdata['time'], sdata['ampl'], color=color)"
   ]
  },
  {
   "cell_type": "code",
   "execution_count": 23,
   "id": "58f1c255-6d2f-4d00-a6da-ab879290912d",
   "metadata": {},
   "outputs": [
    {
     "data": {
      "text/html": [
       "<div>\n",
       "<style scoped>\n",
       "    .dataframe tbody tr th:only-of-type {\n",
       "        vertical-align: middle;\n",
       "    }\n",
       "\n",
       "    .dataframe tbody tr th {\n",
       "        vertical-align: top;\n",
       "    }\n",
       "\n",
       "    .dataframe thead th {\n",
       "        text-align: right;\n",
       "    }\n",
       "</style>\n",
       "<table border=\"1\" class=\"dataframe\">\n",
       "  <thead>\n",
       "    <tr style=\"text-align: right;\">\n",
       "      <th></th>\n",
       "      <th>id</th>\n",
       "      <th>time</th>\n",
       "      <th>x</th>\n",
       "      <th>y</th>\n",
       "    </tr>\n",
       "  </thead>\n",
       "  <tbody>\n",
       "    <tr>\n",
       "      <th>0</th>\n",
       "      <td>1</td>\n",
       "      <td>0</td>\n",
       "      <td>800</td>\n",
       "      <td>0</td>\n",
       "    </tr>\n",
       "    <tr>\n",
       "      <th>1</th>\n",
       "      <td>1</td>\n",
       "      <td>780</td>\n",
       "      <td>780</td>\n",
       "      <td>0</td>\n",
       "    </tr>\n",
       "    <tr>\n",
       "      <th>2</th>\n",
       "      <td>1</td>\n",
       "      <td>1572</td>\n",
       "      <td>792</td>\n",
       "      <td>0</td>\n",
       "    </tr>\n",
       "    <tr>\n",
       "      <th>3</th>\n",
       "      <td>1</td>\n",
       "      <td>2392</td>\n",
       "      <td>820</td>\n",
       "      <td>0</td>\n",
       "    </tr>\n",
       "    <tr>\n",
       "      <th>4</th>\n",
       "      <td>1</td>\n",
       "      <td>3196</td>\n",
       "      <td>804</td>\n",
       "      <td>0</td>\n",
       "    </tr>\n",
       "    <tr>\n",
       "      <th>...</th>\n",
       "      <td>...</td>\n",
       "      <td>...</td>\n",
       "      <td>...</td>\n",
       "      <td>...</td>\n",
       "    </tr>\n",
       "    <tr>\n",
       "      <th>60482</th>\n",
       "      <td>275</td>\n",
       "      <td>115360</td>\n",
       "      <td>552</td>\n",
       "      <td>0</td>\n",
       "    </tr>\n",
       "    <tr>\n",
       "      <th>60483</th>\n",
       "      <td>275</td>\n",
       "      <td>115912</td>\n",
       "      <td>552</td>\n",
       "      <td>0</td>\n",
       "    </tr>\n",
       "    <tr>\n",
       "      <th>60484</th>\n",
       "      <td>275</td>\n",
       "      <td>116464</td>\n",
       "      <td>552</td>\n",
       "      <td>0</td>\n",
       "    </tr>\n",
       "    <tr>\n",
       "      <th>60485</th>\n",
       "      <td>275</td>\n",
       "      <td>117020</td>\n",
       "      <td>556</td>\n",
       "      <td>0</td>\n",
       "    </tr>\n",
       "    <tr>\n",
       "      <th>60486</th>\n",
       "      <td>275</td>\n",
       "      <td>117572</td>\n",
       "      <td>552</td>\n",
       "      <td>0</td>\n",
       "    </tr>\n",
       "  </tbody>\n",
       "</table>\n",
       "<p>60487 rows × 4 columns</p>\n",
       "</div>"
      ],
      "text/plain": [
       "        id    time    x  y\n",
       "0        1       0  800  0\n",
       "1        1     780  780  0\n",
       "2        1    1572  792  0\n",
       "3        1    2392  820  0\n",
       "4        1    3196  804  0\n",
       "...    ...     ...  ... ..\n",
       "60482  275  115360  552  0\n",
       "60483  275  115912  552  0\n",
       "60484  275  116464  552  0\n",
       "60485  275  117020  556  0\n",
       "60486  275  117572  552  0\n",
       "\n",
       "[60487 rows x 4 columns]"
      ]
     },
     "execution_count": 23,
     "metadata": {},
     "output_type": "execute_result"
    }
   ],
   "source": [
    "data"
   ]
  },
  {
   "cell_type": "code",
   "execution_count": 30,
   "id": "e36c4ec9-4274-40c7-b2a3-35ee44a96f1d",
   "metadata": {},
   "outputs": [],
   "source": [
    "time_diffs = []\n",
    "current_time = None\n",
    "for index, row in data.iterrows():\n",
    "    if current_time is None or current_time > row.time :\n",
    "        current_time = row.time\n",
    "        continue\n",
    "    time_diffs.append(row.time - current_time)\n",
    "    current_time = row.time\n",
    "    "
   ]
  },
  {
   "cell_type": "code",
   "execution_count": 73,
   "id": "ac29bdba-202f-468f-adf7-0f6d774ec7b1",
   "metadata": {},
   "outputs": [
    {
     "data": {
      "text/plain": [
       "624.0"
      ]
     },
     "execution_count": 73,
     "metadata": {},
     "output_type": "execute_result"
    }
   ],
   "source": [
    "np.median(time_diffs)"
   ]
  },
  {
   "cell_type": "code",
   "execution_count": 32,
   "id": "7319cfea-8203-4001-904b-db3858446808",
   "metadata": {},
   "outputs": [
    {
     "data": {
      "text/plain": [
       "12"
      ]
     },
     "execution_count": 32,
     "metadata": {},
     "output_type": "execute_result"
    }
   ],
   "source": [
    "min(time_diffs)"
   ]
  },
  {
   "cell_type": "code",
   "execution_count": 34,
   "id": "e2637d5b-8ad1-4016-b1b1-65b89496b972",
   "metadata": {},
   "outputs": [
    {
     "data": {
      "text/plain": [
       "array([ 0.        ,  0.05319149,  0.10638298,  0.15957447,  0.21276596,\n",
       "        0.26595745,  0.31914894,  0.37234043,  0.42553191,  0.4787234 ,\n",
       "        0.53191489,  0.58510638,  0.63829787,  0.69148936,  0.74468085,\n",
       "        0.79787234,  0.85106383,  0.90425532,  0.95744681,  1.0106383 ,\n",
       "        1.06382979,  1.11702128,  1.17021277,  1.22340426,  1.27659574,\n",
       "        1.32978723,  1.38297872,  1.43617021,  1.4893617 ,  1.54255319,\n",
       "        1.59574468,  1.64893617,  1.70212766,  1.75531915,  1.80851064,\n",
       "        1.86170213,  1.91489362,  1.96808511,  2.0212766 ,  2.07446809,\n",
       "        2.12765957,  2.18085106,  2.23404255,  2.28723404,  2.34042553,\n",
       "        2.39361702,  2.44680851,  2.5       ,  2.55319149,  2.60638298,\n",
       "        2.65957447,  2.71276596,  2.76595745,  2.81914894,  2.87234043,\n",
       "        2.92553191,  2.9787234 ,  3.03191489,  3.08510638,  3.13829787,\n",
       "        3.19148936,  3.24468085,  3.29787234,  3.35106383,  3.40425532,\n",
       "        3.45744681,  3.5106383 ,  3.56382979,  3.61702128,  3.67021277,\n",
       "        3.72340426,  3.77659574,  3.82978723,  3.88297872,  3.93617021,\n",
       "        3.9893617 ,  4.04255319,  4.09574468,  4.14893617,  4.20212766,\n",
       "        4.25531915,  4.30851064,  4.36170213,  4.41489362,  4.46808511,\n",
       "        4.5212766 ,  4.57446809,  4.62765957,  4.68085106,  4.73404255,\n",
       "        4.78723404,  4.84042553,  4.89361702,  4.94680851, -5.        ,\n",
       "       -4.94680851, -4.89361702, -4.84042553, -4.78723404, -4.73404255,\n",
       "       -4.68085106, -4.62765957, -4.57446809, -4.5212766 , -4.46808511,\n",
       "       -4.41489362, -4.36170213, -4.30851064, -4.25531915, -4.20212766,\n",
       "       -4.14893617, -4.09574468, -4.04255319, -3.9893617 , -3.93617021,\n",
       "       -3.88297872, -3.82978723, -3.77659574, -3.72340426, -3.67021277,\n",
       "       -3.61702128, -3.56382979, -3.5106383 , -3.45744681, -3.40425532,\n",
       "       -3.35106383, -3.29787234, -3.24468085, -3.19148936, -3.13829787,\n",
       "       -3.08510638, -3.03191489, -2.9787234 , -2.92553191, -2.87234043,\n",
       "       -2.81914894, -2.76595745, -2.71276596, -2.65957447, -2.60638298,\n",
       "       -2.55319149, -2.5       , -2.44680851, -2.39361702, -2.34042553,\n",
       "       -2.28723404, -2.23404255, -2.18085106, -2.12765957, -2.07446809,\n",
       "       -2.0212766 , -1.96808511, -1.91489362, -1.86170213, -1.80851064,\n",
       "       -1.75531915, -1.70212766, -1.64893617, -1.59574468, -1.54255319,\n",
       "       -1.4893617 , -1.43617021, -1.38297872, -1.32978723, -1.27659574,\n",
       "       -1.22340426, -1.17021277, -1.11702128, -1.06382979, -1.0106383 ,\n",
       "       -0.95744681, -0.90425532, -0.85106383, -0.79787234, -0.74468085,\n",
       "       -0.69148936, -0.63829787, -0.58510638, -0.53191489, -0.4787234 ,\n",
       "       -0.42553191, -0.37234043, -0.31914894, -0.26595745, -0.21276596,\n",
       "       -0.15957447, -0.10638298, -0.05319149])"
      ]
     },
     "execution_count": 34,
     "metadata": {},
     "output_type": "execute_result"
    }
   ],
   "source": [
    "n = 188\n",
    "timestep = 0.1\n",
    "freq = np.fft.fftfreq(n, d=timestep)\n",
    "freq"
   ]
  },
  {
   "cell_type": "code",
   "execution_count": 46,
   "id": "e4b318d7-e45d-464b-ad73-5aa6b344494b",
   "metadata": {},
   "outputs": [
    {
     "data": {
      "text/plain": [
       "510.0"
      ]
     },
     "execution_count": 46,
     "metadata": {},
     "output_type": "execute_result"
    }
   ],
   "source": [
    "n = 512\n",
    "timestep = 1/1024\n",
    "freq = np.fft.fftfreq(n, d=timestep)\n",
    "max(freq)"
   ]
  },
  {
   "cell_type": "code",
   "execution_count": 41,
   "id": "25f17cce-097c-41cb-b789-f47b7391fc59",
   "metadata": {},
   "outputs": [
    {
     "name": "stdout",
     "output_type": "stream",
     "text": [
      "Collecting scipy\n",
      "  Using cached scipy-1.5.4-cp36-cp36m-manylinux1_x86_64.whl (25.9 MB)\n",
      "Requirement already satisfied: numpy>=1.14.5 in ./venv/lib/python3.6/site-packages (from scipy) (1.19.5)\n",
      "Installing collected packages: scipy\n",
      "Successfully installed scipy-1.5.4\n"
     ]
    }
   ],
   "source": [
    "!pip install scipy"
   ]
  },
  {
   "cell_type": "code",
   "execution_count": 44,
   "id": "d488d634-3d20-4c5d-8b82-dab877fa7116",
   "metadata": {},
   "outputs": [
    {
     "data": {
      "image/png": "[encoded data removed]",
      "text/plain": [
       "<Figure size 432x288 with 1 Axes>"
      ]
     },
     "metadata": {
      "needs_background": "light"
     },
     "output_type": "display_data"
    }
   ],
   "source": [
    "%matplotlib inline\n",
    "import numpy as np\n",
    "import matplotlib.pyplot as plt\n",
    "import scipy.fftpack\n",
    "\n",
    "# Number of samplepoints\n",
    "N = 1200\n",
    "# sample spacing\n",
    "T = 1.0 / 800.0\n",
    "x = np.linspace(0.0, N*T, N)\n",
    "y = np.sin(50.0 * 2.0*np.pi*x) + 0.5*np.sin(80.0 * 2.0*np.pi*x)\n",
    "yf = scipy.fftpack.fft(y)\n",
    "xf = np.linspace(0.0, 1.0/(2.0*T), N//2)\n",
    "\n",
    "fig, ax = plt.subplots()\n",
    "ax.plot(xf, 2.0/N * np.abs(yf[:N//2]))\n",
    "plt.show()"
   ]
  },
  {
   "cell_type": "code",
   "execution_count": 45,
   "id": "b3e16c43-306f-4ae6-843a-8e9c6e59231c",
   "metadata": {},
   "outputs": [
    {
     "data": {
      "image/png": "[encoded data removed]",
      "text/plain": [
       "<Figure size 432x288 with 1 Axes>"
      ]
     },
     "metadata": {
      "needs_background": "light"
     },
     "output_type": "display_data"
    }
   ],
   "source": [
    "fig, ax = plt.subplots()\n",
    "ax.plot(x, y)\n",
    "plt.show()"
   ]
  },
  {
   "cell_type": "code",
   "execution_count": 47,
   "id": "179b7ace-9afe-4152-a5a6-506cfd016abf",
   "metadata": {},
   "outputs": [],
   "source": [
    "mapping = {\"0\": 1, \"1\": 2, \"2\": 3, \"3\": 4, \"4\": 5, \"5\": 6, \"6\": 7, \"7\": 10, \"8\": 12, \"9\": 13, \"10\": 14, \"11\": 15, \"12\": 16, \"13\": 17, \"14\": 19, \"15\": 20, \"16\": 21, \"17\": 22, \"18\": 23, \"19\": 24, \"20\": 25, \"21\": 27, \"22\": 29, \"23\": 30, \"24\": 31, \"25\": 32, \"26\": 33, \"27\": 34, \"28\": 35, \"29\": 36, \"30\": 38, \"31\": 39, \"32\": 40, \"33\": 41, \"34\": 42, \"35\": 43, \"36\": 44, \"37\": 45, \"38\": 46, \"39\": 47, \"40\": 48, \"41\": 49, \"42\": 51, \"43\": 52, \"44\": 53, \"45\": 54, \"46\": 55, \"47\": 57, \"48\": 58, \"49\": 59, \"50\": 60, \"51\": 61, \"52\": 62, \"53\": 63, \"54\": 64, \"55\": 65, \"56\": 66, \"57\": 67, \"58\": 68, \"59\": 69, \"60\": 70, \"61\": 71, \"62\": 72, \"63\": 73, \"64\": 74, \"65\": 75, \"66\": 76, \"67\": 77, \"68\": 78, \"69\": 79, \"70\": 80, \"71\": 82, \"72\": 84, \"73\": 85, \"74\": 86, \"75\": 87, \"76\": 88, \"77\": 89, \"78\": 90, \"79\": 91, \"80\": 92, \"81\": 93, \"82\": 96, \"83\": 97, \"84\": 99, \"85\": 100, \"86\": 101, \"87\": 102, \"88\": 103, \"89\": 104, \"90\": 107, \"91\": 108, \"92\": 109, \"93\": 110, \"94\": 111, \"95\": 112, \"96\": 113, \"97\": 115, \"98\": 116, \"99\": 117, \"100\": 118, \"101\": 119, \"102\": 120, \"103\": 121, \"104\": 122, \"105\": 123, \"106\": 124, \"107\": 125, \"108\": 126, \"109\": 127, \"110\": 128, \"111\": 129, \"112\": 130, \"113\": 131, \"114\": 132, \"115\": 133, \"116\": 134, \"117\": 136, \"118\": 137, \"119\": 138, \"120\": 139, \"121\": 140, \"122\": 143, \"123\": 144, \"124\": 145, \"125\": 146, \"126\": 147, \"127\": 148, \"128\": 149, \"129\": 150, \"130\": 151, \"131\": 152, \"132\": 153, \"133\": 155, \"134\": 156, \"135\": 158, \"136\": 159, \"137\": 160, \"138\": 161, \"139\": 162, \"140\": 163, \"141\": 164, \"142\": 167, \"143\": 169, \"144\": 170, \"145\": 172, \"146\": 173, \"147\": 174, \"148\": 177, \"149\": 178, \"150\": 179, \"151\": 180, \"152\": 182, \"153\": 185, \"154\": 186, \"155\": 187, \"156\": 188, \"157\": 189, \"158\": 190, \"159\": 191, \"160\": 193, \"161\": 194, \"162\": 195, \"163\": 196, \"164\": 197, \"165\": 199, \"166\": 201, \"167\": 202, \"168\": 203, \"169\": 204, \"170\": 205, \"171\": 206, \"172\": 207, \"173\": 208, \"174\": 209, \"175\": 213, \"176\": 214, \"177\": 215, \"178\": 216, \"179\": 217, \"180\": 218, \"181\": 219, \"182\": 220, \"183\": 221, \"184\": 222, \"185\": 223, \"186\": 224, \"187\": 225, \"188\": 226, \"189\": 228, \"190\": 229, \"191\": 230, \"192\": 231, \"193\": 232, \"194\": 233, \"195\": 234, \"196\": 235, \"197\": 236, \"198\": 237, \"199\": 238, \"200\": 239, \"201\": 240, \"202\": 241, \"203\": 242, \"204\": 244, \"205\": 245, \"206\": 246, \"207\": 247, \"208\": 250, \"209\": 251, \"210\": 252, \"211\": 253, \"212\": 254, \"213\": 257, \"214\": 258, \"215\": 259, \"216\": 260, \"217\": 261, \"218\": 262, \"219\": 263, \"220\": 264, \"221\": 265, \"222\": 266, \"223\": 268, \"224\": 270, \"225\": 271, \"226\": 272, \"227\": 273, \"228\": 275}"
   ]
  },
  {
   "cell_type": "code",
   "execution_count": 48,
   "id": "3cdf0d9b-639f-4835-933e-c51698fbcd44",
   "metadata": {},
   "outputs": [],
   "source": [
    "mapping = {int(k):v for k,v in mapping.items()}"
   ]
  },
  {
   "cell_type": "code",
   "execution_count": 51,
   "id": "07f62ce2-1dbb-4bde-8d58-e3894451b419",
   "metadata": {},
   "outputs": [],
   "source": [
    "train_idx = [mapping[id] for id in np.load('/home/malchul/work/CadrioSpike/data/train.npy')]\n",
    "val_idx = [mapping[id] for id in np.load('/home/malchul/work/CadrioSpike/data/val.npy')]"
   ]
  },
  {
   "cell_type": "code",
   "execution_count": 52,
   "id": "ec68eb86-cd31-43c6-99ca-a4a500e7e3ce",
   "metadata": {},
   "outputs": [],
   "source": [
    "train_csv = data[data['id'].isin(train_idx)]\n",
    "val_csv = data[data['id'].isin(train_idx)]"
   ]
  },
  {
   "cell_type": "code",
   "execution_count": 55,
   "id": "3a329093-3624-44a5-b4ac-2f57210cd6d5",
   "metadata": {},
   "outputs": [],
   "source": [
    "train_csv.to_csv('train_split.csv')\n",
    "val_csv.to_csv('val_split.csv')"
   ]
  },
  {
   "cell_type": "code",
   "execution_count": 56,
   "id": "856efb42-5799-4192-88eb-0fc587eceb22",
   "metadata": {},
   "outputs": [
    {
     "data": {
      "text/html": [
       "<div>\n",
       "<style scoped>\n",
       "    .dataframe tbody tr th:only-of-type {\n",
       "        vertical-align: middle;\n",
       "    }\n",
       "\n",
       "    .dataframe tbody tr th {\n",
       "        vertical-align: top;\n",
       "    }\n",
       "\n",
       "    .dataframe thead th {\n",
       "        text-align: right;\n",
       "    }\n",
       "</style>\n",
       "<table border=\"1\" class=\"dataframe\">\n",
       "  <thead>\n",
       "    <tr style=\"text-align: right;\">\n",
       "      <th></th>\n",
       "      <th>id</th>\n",
       "      <th>time</th>\n",
       "      <th>x</th>\n",
       "      <th>y</th>\n",
       "    </tr>\n",
       "  </thead>\n",
       "  <tbody>\n",
       "    <tr>\n",
       "      <th>0</th>\n",
       "      <td>1</td>\n",
       "      <td>0</td>\n",
       "      <td>800</td>\n",
       "      <td>0</td>\n",
       "    </tr>\n",
       "    <tr>\n",
       "      <th>1</th>\n",
       "      <td>1</td>\n",
       "      <td>780</td>\n",
       "      <td>780</td>\n",
       "      <td>0</td>\n",
       "    </tr>\n",
       "    <tr>\n",
       "      <th>2</th>\n",
       "      <td>1</td>\n",
       "      <td>1572</td>\n",
       "      <td>792</td>\n",
       "      <td>0</td>\n",
       "    </tr>\n",
       "    <tr>\n",
       "      <th>3</th>\n",
       "      <td>1</td>\n",
       "      <td>2392</td>\n",
       "      <td>820</td>\n",
       "      <td>0</td>\n",
       "    </tr>\n",
       "    <tr>\n",
       "      <th>4</th>\n",
       "      <td>1</td>\n",
       "      <td>3196</td>\n",
       "      <td>804</td>\n",
       "      <td>0</td>\n",
       "    </tr>\n",
       "    <tr>\n",
       "      <th>...</th>\n",
       "      <td>...</td>\n",
       "      <td>...</td>\n",
       "      <td>...</td>\n",
       "      <td>...</td>\n",
       "    </tr>\n",
       "    <tr>\n",
       "      <th>60482</th>\n",
       "      <td>275</td>\n",
       "      <td>115360</td>\n",
       "      <td>552</td>\n",
       "      <td>0</td>\n",
       "    </tr>\n",
       "    <tr>\n",
       "      <th>60483</th>\n",
       "      <td>275</td>\n",
       "      <td>115912</td>\n",
       "      <td>552</td>\n",
       "      <td>0</td>\n",
       "    </tr>\n",
       "    <tr>\n",
       "      <th>60484</th>\n",
       "      <td>275</td>\n",
       "      <td>116464</td>\n",
       "      <td>552</td>\n",
       "      <td>0</td>\n",
       "    </tr>\n",
       "    <tr>\n",
       "      <th>60485</th>\n",
       "      <td>275</td>\n",
       "      <td>117020</td>\n",
       "      <td>556</td>\n",
       "      <td>0</td>\n",
       "    </tr>\n",
       "    <tr>\n",
       "      <th>60486</th>\n",
       "      <td>275</td>\n",
       "      <td>117572</td>\n",
       "      <td>552</td>\n",
       "      <td>0</td>\n",
       "    </tr>\n",
       "  </tbody>\n",
       "</table>\n",
       "<p>48435 rows × 4 columns</p>\n",
       "</div>"
      ],
      "text/plain": [
       "        id    time    x  y\n",
       "0        1       0  800  0\n",
       "1        1     780  780  0\n",
       "2        1    1572  792  0\n",
       "3        1    2392  820  0\n",
       "4        1    3196  804  0\n",
       "...    ...     ...  ... ..\n",
       "60482  275  115360  552  0\n",
       "60483  275  115912  552  0\n",
       "60484  275  116464  552  0\n",
       "60485  275  117020  556  0\n",
       "60486  275  117572  552  0\n",
       "\n",
       "[48435 rows x 4 columns]"
      ]
     },
     "execution_count": 56,
     "metadata": {},
     "output_type": "execute_result"
    }
   ],
   "source": [
    "val_csv"
   ]
  },
  {
   "cell_type": "code",
   "execution_count": null,
   "id": "4f2a43cd-eb7a-45cb-b37a-58e4f11414af",
   "metadata": {},
   "outputs": [],
   "source": []
  }
 ],
 "metadata": {
  "kernelspec": {
   "display_name": "Python 3",
   "language": "python",
   "name": "python3"
  },
  "language_info": {
   "codemirror_mode": {
    "name": "ipython",
    "version": 3
   },
   "file_extension": ".py",
   "mimetype": "text/x-python",
   "name": "python",
   "nbconvert_exporter": "python",
   "pygments_lexer": "ipython3",
   "version": "3.6.9"
  }
 },
 "nbformat": 4,
 "nbformat_minor": 5
}
